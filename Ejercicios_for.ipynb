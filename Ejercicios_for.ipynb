{
  "nbformat": 4,
  "nbformat_minor": 0,
  "metadata": {
    "colab": {
      "provenance": [],
      "authorship_tag": "ABX9TyMtnxrOEAHvNON6QiGLFxfR",
      "include_colab_link": true
    },
    "kernelspec": {
      "name": "python3",
      "display_name": "Python 3"
    },
    "language_info": {
      "name": "python"
    }
  },
  "cells": [
    {
      "cell_type": "markdown",
      "metadata": {
        "id": "view-in-github",
        "colab_type": "text"
      },
      "source": [
        "<a href=\"https://colab.research.google.com/github/GabsCastroN/EjerciciosFor/blob/main/Ejercicios_for.ipynb\" target=\"_parent\"><img src=\"https://colab.research.google.com/assets/colab-badge.svg\" alt=\"Open In Colab\"/></a>"
      ]
    },
    {
      "cell_type": "markdown",
      "source": [
        "# Instruccion repetitiva for"
      ],
      "metadata": {
        "id": "ylgCimOAq_bu"
      }
    },
    {
      "cell_type": "code",
      "source": [
        "#Ejercicio 1: mostrar los numeros del 1 al 10, sin usar instruciones repetitivas\n",
        "print(1)\n",
        "print(2)\n",
        "print(3)\n",
        "print(4)\n",
        "print(5)\n",
        "print(6)\n",
        "print(7)\n",
        "print(8)\n",
        "print(9)\n",
        "print(10)"
      ],
      "metadata": {
        "id": "P53KORD9qYkZ"
      },
      "execution_count": null,
      "outputs": []
    },
    {
      "cell_type": "code",
      "source": [
        "#Ejercicio 2\n",
        "X = 0\n",
        "while X<10:\n",
        "  X += 1\n",
        "  print(X)"
      ],
      "metadata": {
        "id": "cf2eNzxKszOP"
      },
      "execution_count": null,
      "outputs": []
    },
    {
      "cell_type": "code",
      "source": [
        "#Ejercicio 3\n",
        "Numb = [1,2,3,4,5,6,7,8,9,10]\n",
        "for N in Numb:\n",
        "  print (N)"
      ],
      "metadata": {
        "id": "IjELEKxbrJ_m"
      },
      "execution_count": null,
      "outputs": []
    },
    {
      "cell_type": "code",
      "source": [
        "#Ejercicio 4\n",
        "for N in range(1,11):\n",
        "  print(N)"
      ],
      "metadata": {
        "id": "UzH8WFnoxBIM"
      },
      "execution_count": null,
      "outputs": []
    },
    {
      "cell_type": "code",
      "source": [
        "#Ejercicio 5 mostrar una frase 10 veces usando la instrucion for\n",
        "X = input(\"Una frase: \")\n",
        "Waos = [1,2,3,4,5,6,7,8,9,10]\n",
        "for N in Waos:\n",
        "  print(X)"
      ],
      "metadata": {
        "id": "1onsx_7wxejb"
      },
      "execution_count": null,
      "outputs": []
    },
    {
      "cell_type": "code",
      "source": [
        "#Ejercicio 6 mostrar silaba inicial de los dias de la semana, usando for\n",
        "Semana = [\"lu\", \"ma\", \"mi\", \"ju\",\"vi\", \"sa\", \"do\"]\n",
        "for E in Semana:\n",
        "  print(E)"
      ],
      "metadata": {
        "id": "y0mF1Rrnynw3"
      },
      "execution_count": null,
      "outputs": []
    },
    {
      "cell_type": "code",
      "source": [
        "#Ejercicio 7 mostrar una lista de distintos tipos de datos\n",
        "Waos = [\"Waos\", 5, \"Mamawebo\", \"digo gluglu\", True, 39]\n",
        "for i in Waos:\n",
        "  print(i)"
      ],
      "metadata": {
        "id": "HKj0eVaHzfHG"
      },
      "execution_count": null,
      "outputs": []
    },
    {
      "cell_type": "code",
      "source": [
        "#Ejercicio 8 pon tu nombre con for\n",
        "X = input(\"Tu nombre: \")\n",
        "for N in X:\n",
        "  print(N)"
      ],
      "metadata": {
        "id": "-yXDaklm0HCJ"
      },
      "execution_count": null,
      "outputs": []
    },
    {
      "cell_type": "code",
      "source": [
        "#Ejercicio 9 ingresar su nombre y mostrarlo letra a letra usando for cambiando por * a la vocal E\n",
        "X = input(\"Tu nombre\")\n",
        "for i in X: \n",
        "  if i == 'e':\n",
        "    print(\"*\")\n",
        "  elif i == 'E':\n",
        "    print(\"*\")\n",
        "  else:\n",
        "    print(i)"
      ],
      "metadata": {
        "id": "8EmlRLBG07PO"
      },
      "execution_count": null,
      "outputs": []
    },
    {
      "cell_type": "code",
      "source": [
        "#Ejercicio 10 ingresar su nombre y mostrarlo letra a letra en mayuscula usando for\n",
        "X = input(\"Tu nombre: \")\n",
        "for i in X:\n",
        "  print(i.upper())"
      ],
      "metadata": {
        "id": "E7rxJCx7ABbe"
      },
      "execution_count": null,
      "outputs": []
    },
    {
      "cell_type": "code",
      "source": [
        "#Ejercicio 11 \n",
        "print(\"muestra los numeros del 0 al 9\")\n",
        "for i in range(10):\n",
        "  print(i)\n",
        "print(\"muestra los numeros del 1 al 10\")\n",
        "for i in range(1,11):\n",
        "  print(i)\n",
        "print(\"10 veces la frase\")\n",
        "for i in range(10):\n",
        "  print(\"sistemas el mejor\")\n",
        "\n",
        "print(\"10 veces la frase i =\")\n",
        "for i in range(10):\n",
        "  print(\"i = \" + str(i))\n",
        "\n",
        "print(\"10 veces la frase i =\")\n",
        "for i in range(10):\n",
        "  print(f\"i = {i}\")\n",
        "\n",
        "print(\"rango de 7 al 18 incrementando de 4 a 4\")\n",
        "for i in range(7, 19, 4):\n",
        "  print(i)\n",
        "\n",
        "print(\"convierte rango en lista a, y la muestra\")\n",
        "a = list(range(1000))\n",
        "print(a)"
      ],
      "metadata": {
        "id": "v4YPuO-sBH0C"
      },
      "execution_count": null,
      "outputs": []
    }
  ]
}